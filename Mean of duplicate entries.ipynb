{
 "cells": [
  {
   "cell_type": "code",
   "execution_count": 31,
   "id": "downtown-treatment",
   "metadata": {},
   "outputs": [],
   "source": [
    "import pandas as pd\n",
    "import numpy as np\n",
    "from data_loader import Loader\n",
    "import matplotlib.pyplot as plt"
   ]
  },
  {
   "cell_type": "code",
   "execution_count": null,
   "id": "adjacent-peoples",
   "metadata": {},
   "outputs": [],
   "source": [
    "train_labels_0_loader = Loader(path=\"C:/Users/Tomer/Desktop/IML.Hackathon/Mission2_Breast_Cancer/train.labels.0.csv\")\n",
    "train_labels_0_loader.load()\n",
    "train_labels_0 = train_labels_0_loader.get_data()\n",
    "\n",
    "train_labels_1_loader = Loader(path=\"C:/Users/Tomer/Desktop/IML.Hackathon/Mission2_Breast_Cancer/train.labels.1.csv\")\n",
    "train_labels_1_loader.load()\n",
    "train_labels_1 = train_labels_1_loader.get_data()\n",
    "\n",
    "train_feats_loader = Loader(path=\"C:/Users/Tomer/Desktop/IML.Hackathon/Mission2_Breast_Cancer/train.feats.csv\")\n",
    "train_feats_loader.load()\n",
    "train_feats = train_feats_loader.get_data()\n",
    "\n",
    "df = pd.read_csv(\"pre_proc.csv\")\n",
    "\n",
    "df = pd.concat([df,train_labels_0,train_labels_1, train_feats['id-hushed_internalpatientid']], axis=1)\n",
    "df = df.dropna().drop(['Unnamed: 0'], axis=1)"
   ]
  },
  {
   "cell_type": "code",
   "execution_count": 33,
   "id": "macro-forth",
   "metadata": {},
   "outputs": [],
   "source": [
    "mean_df = df.groupby('id-hushed_internalpatientid', as_index=False).mean()"
   ]
  }
 ],
 "metadata": {
  "kernelspec": {
   "display_name": "Python 3",
   "language": "python",
   "name": "python3"
  },
  "language_info": {
   "codemirror_mode": {
    "name": "ipython",
    "version": 3
   },
   "file_extension": ".py",
   "mimetype": "text/x-python",
   "name": "python",
   "nbconvert_exporter": "python",
   "pygments_lexer": "ipython3",
   "version": "3.8.0"
  }
 },
 "nbformat": 4,
 "nbformat_minor": 5
}
