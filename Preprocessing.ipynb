{
 "cells": [
  {
   "cell_type": "code",
   "execution_count": 1,
   "id": "difficult-millennium",
   "metadata": {},
   "outputs": [],
   "source": [
    "import pandas as pd\n",
    "\n",
    "\n",
    "class Loader:\n",
    "    def __init__(self, path: str = \"\", pickled_path: str = \"\"):\n",
    "        self.path = path\n",
    "        self.pickled_path = \"\"\n",
    "        self.df: pd.DataFrame = None\n",
    "\n",
    "    def load(self):\n",
    "        self.df = pd.read_csv(self.path)\n",
    "\n",
    "    def activate_preprocessing(self, pre_processing_functions):\n",
    "        for fun in pre_processing_functions:\n",
    "            self.df = fun(self.df)\n",
    "\n",
    "    def pickle_data(self):\n",
    "        if self.df is not None:\n",
    "            self.df.to_pickle(self.path + \".pickled\")\n",
    "            self.pickled_path = self.path + \".pickled\"\n",
    "\n",
    "    def load_pickled(self):\n",
    "        self.df = pd.read_pickle(self.pickled_path)\n",
    "\n",
    "    def get_data(self) -> pd.DataFrame:\n",
    "        if self.df is not None:\n",
    "            return self.df\n"
   ]
  },
  {
   "cell_type": "code",
   "execution_count": null,
   "id": "democratic-competition",
   "metadata": {},
   "outputs": [],
   "source": [
    "train_feats_loader = Loader(path=\"C:/Users/Tomer/Desktop/IML.Hackathon/Mission2_Breast_Cancer/train.feats.csv\")\n",
    "train_feats_loader.load()\n",
    "train_feats = train_feats_loader.get_data()"
   ]
  },
  {
   "cell_type": "code",
   "execution_count": 3,
   "id": "charitable-monroe",
   "metadata": {},
   "outputs": [],
   "source": [
    "train_labels_0_loader = Loader(path=\"C:/Users/Tomer/Desktop/IML.Hackathon/Mission2_Breast_Cancer/train.labels.0.csv\")\n",
    "train_labels_0_loader.load()\n",
    "train_labels_0 = train_labels_0_loader.get_data()"
   ]
  },
  {
   "cell_type": "code",
   "execution_count": 4,
   "id": "harmful-scholar",
   "metadata": {},
   "outputs": [],
   "source": [
    "train_labels_1_loader = Loader(path=\"C:/Users/Tomer/Desktop/IML.Hackathon/Mission2_Breast_Cancer/train.labels.1.csv\")\n",
    "train_labels_1_loader.load()\n",
    "train_labels_1 = train_labels_0_loader.get_data()"
   ]
  },
  {
   "cell_type": "code",
   "execution_count": 78,
   "id": "tropical-textbook",
   "metadata": {},
   "outputs": [],
   "source": [
    "df = train_feats.iloc[:, list(range(1,11))]"
   ]
  },
  {
   "cell_type": "code",
   "execution_count": null,
   "id": "explicit-multimedia",
   "metadata": {},
   "outputs": [],
   "source": [
    "## אבחנה-Ivi -Lymphovascular invasion\n",
    "df[\"אבחנה-Ivi -Lymphovascular invasion\"].replace({\n",
    "                                                \"nan\": \"0\",\"none\": \"0\",\"+\": \"1\",\"extensive\": \"1\",\"-\": \"0\",\n",
    "                                                \"No\":\"0\", \"(-)\":\"0\",\"NO\": \"0\",\"(+)\": \"1\",\"neg\": \"0\",\n",
    "                                                \"not\": \"0\",\"pos\": \"0\",\"yes\":\"1\",\"no\":\"0\", None:\"0\"\n",
    "                                                }, inplace=True)"
   ]
  },
  {
   "cell_type": "code",
   "execution_count": null,
   "id": "clinical-technology",
   "metadata": {},
   "outputs": [],
   "source": [
    "## אבחנה-KI67 protein\n",
    "non_null = df.loc[~(df[\"אבחנה-KI67 protein\"].isnull())]\n",
    "percentage_num = non_null.loc[non_null[\"אבחנה-KI67 protein\"].str.match(\"^\\d+(?:\\.\\d+)?%$\")]\n",
    "percentage_num[\"אבחנה-KI67 protein\"] = (percentage_num[\"אבחנה-KI67 protein\"].str.replace(\"%\",\"\").astype(float))/100\n",
    "\n",
    "df.update(percentage_num)\n",
    "\n",
    "percentage_range = non_null.loc[non_null[\"אבחנה-KI67 protein\"].str.match(\"^\\d+(?:\\.\\d+)?%-\\d+(?:\\.\\d+)?%$\")]\n",
    "percentage_range[\"אבחנה-KI67 protein\"] =(percentage_range[\"אבחנה-KI67 protein\"].str.extract(\"^\\d+(?:\\.\\d+)?%-\\d+(?:\\.\\d+)?%$\")\n",
    "# to calculate average between the two numbers\n",
    "\n",
    "df.update(percentage_range)\n",
    "\n",
    "# many unique values, to drop very unique, deal with null values and convert others"
   ]
  },
  {
   "cell_type": "code",
   "execution_count": null,
   "id": "critical-duncan",
   "metadata": {},
   "outputs": [],
   "source": [
    "## 'אבחנה-Her2'\n",
    "df['אבחנה-Her2']\n",
    "# many unique values, to drop very unique, deal with null values and convert others"
   ]
  },
  {
   "cell_type": "code",
   "execution_count": null,
   "id": "pursuant-retro",
   "metadata": {},
   "outputs": [],
   "source": [
    "# to convert to one-hot encoding\n",
    "df[' Hospital']\n",
    "\n",
    "# to convert to ordinal encoding (certain)\n",
    "df['אבחנה-Basic stage']\n",
    "df['אבחנה-Histopatological degree'] # deal with null values\n",
    "\n",
    "\n",
    "# to convert to ordinal encoding (uncertain)\n",
    "df['User Name']\n",
    "df['אבחנה-Histological diagnosis']\n",
    "\n",
    "# not sure how to deal\n",
    "df['אבחנה-Diagnosis date']"
   ]
  }
 ],
 "metadata": {
  "kernelspec": {
   "display_name": "Python 3",
   "language": "python",
   "name": "python3"
  },
  "language_info": {
   "codemirror_mode": {
    "name": "ipython",
    "version": 3
   },
   "file_extension": ".py",
   "mimetype": "text/x-python",
   "name": "python",
   "nbconvert_exporter": "python",
   "pygments_lexer": "ipython3",
   "version": "3.8.0"
  }
 },
 "nbformat": 4,
 "nbformat_minor": 5
}
