{
 "cells": [
  {
   "cell_type": "code",
   "execution_count": 1019,
   "id": "polish-craps",
   "metadata": {},
   "outputs": [],
   "source": [
    "import pandas as pd\n",
    "import numpy as np\n",
    "from collections import defaultdict\n",
    "import pickle\n",
    "from sklearn.preprocessing import OneHotEncoder\n",
    "from sklearn.preprocessing import OrdinalEncoder"
   ]
  },
  {
   "cell_type": "code",
   "execution_count": 1020,
   "id": "difficult-millennium",
   "metadata": {},
   "outputs": [],
   "source": [
    "class Loader:\n",
    "    def __init__(self, path: str = \"\", pickled_path: str = \"\"):\n",
    "        self.path = path\n",
    "        self.pickled_path = \"\"\n",
    "        self.df: pd.DataFrame = None\n",
    "\n",
    "    def load(self):\n",
    "        self.df = pd.read_csv(self.path)\n",
    "\n",
    "    def activate_preprocessing(self, pre_processing_functions):\n",
    "        for fun in pre_processing_functions:\n",
    "            self.df = fun(self.df)\n",
    "\n",
    "    def pickle_data(self):\n",
    "        if self.df is not None:\n",
    "            self.df.to_pickle(self.path + \".pickled\")\n",
    "            self.pickled_path = self.path + \".pickled\"\n",
    "\n",
    "    def load_pickled(self):\n",
    "        self.df = pd.read_pickle(self.pickled_path)\n",
    "\n",
    "    def get_data(self) -> pd.DataFrame:\n",
    "        if self.df is not None:\n",
    "            return self.df\n"
   ]
  },
  {
   "cell_type": "code",
   "execution_count": 1021,
   "id": "democratic-competition",
   "metadata": {},
   "outputs": [
    {
     "name": "stderr",
     "output_type": "stream",
     "text": [
      "<ipython-input-1020-b12d2d63caf8>:8: DtypeWarning: Columns (9,21,24) have mixed types. Specify dtype option on import or set low_memory=False.\n",
      "  self.df = pd.read_csv(self.path)\n"
     ]
    }
   ],
   "source": [
    "train_feats_loader = Loader(path=\"C:/Users/Tomer/Desktop/IML.Hackathon/Mission2_Breast_Cancer/train.feats.csv\")\n",
    "train_feats_loader.load()\n",
    "train_feats = train_feats_loader.get_data()"
   ]
  },
  {
   "cell_type": "code",
   "execution_count": 1022,
   "id": "charitable-monroe",
   "metadata": {},
   "outputs": [],
   "source": [
    "train_labels_0_loader = Loader(path=\"C:/Users/Tomer/Desktop/IML.Hackathon/Mission2_Breast_Cancer/train.labels.0.csv\")\n",
    "train_labels_0_loader.load()\n",
    "train_labels_0 = train_labels_0_loader.get_data()"
   ]
  },
  {
   "cell_type": "code",
   "execution_count": 1023,
   "id": "harmful-scholar",
   "metadata": {},
   "outputs": [],
   "source": [
    "train_labels_1_loader = Loader(path=\"C:/Users/Tomer/Desktop/IML.Hackathon/Mission2_Breast_Cancer/train.labels.1.csv\")\n",
    "train_labels_1_loader.load()\n",
    "train_labels_1 = train_labels_0_loader.get_data()"
   ]
  },
  {
   "cell_type": "code",
   "execution_count": 1024,
   "id": "tropical-textbook",
   "metadata": {},
   "outputs": [],
   "source": [
    "df = train_feats.iloc[:, list(range(1,11))]"
   ]
  },
  {
   "cell_type": "code",
   "execution_count": 1025,
   "id": "clinical-technology",
   "metadata": {},
   "outputs": [],
   "source": [
    "## אבחנה-Ivi -Lymphovascular invasion\n",
    "def lymph_invasion(df):\n",
    "    df[\"אבחנה-Ivi -Lymphovascular invasion\"].replace({\n",
    "                                                    \"nan\": \"0\",\"none\": \"0\",\"+\": \"1\",\"extensive\": \"1\",\"-\": \"0\",\n",
    "                                                    \"No\":\"0\", \"(-)\":\"0\",\"NO\": \"0\",\"(+)\": \"1\",\"neg\": \"0\",\n",
    "                                                    \"not\": \"0\",\"pos\": \"0\",\"yes\":\"1\",\"no\":\"0\", None:\"0\",\n",
    "                                                    \"MICROPAPILLARY VARIANT\":2}, inplace=True)\n",
    "    return df\n",
    "\n",
    "\n",
    "## אבחנה-KI67 protein\n",
    "def ki67(df):\n",
    "    non_null = df.loc[~(df[\"אבחנה-KI67 protein\"].isnull())]\n",
    "    num_only = non_null.loc[non_null[\"אבחנה-KI67 protein\"].str.match(\"^\\d+(?:\\.\\d+)?$\")]\n",
    "    num_only[\"אבחנה-KI67 protein\"] = (num_only[\"אבחנה-KI67 protein\"].astype(float))/100\n",
    "\n",
    "    percentage_num = non_null.loc[non_null[\"אבחנה-KI67 protein\"].str.match(\"^\\d+(?:\\.\\d+)?%$\")]\n",
    "    percentage_num[\"אבחנה-KI67 protein\"] = (percentage_num[\"אבחנה-KI67 protein\"].str.replace(\"%\",\"\").astype(float))/100\n",
    "\n",
    "    all_changes = pd.concat([num_only,percentage_num])\n",
    "    df.update(all_changes)\n",
    "\n",
    "    split_numbers = non_null[\"אבחנה-KI67 protein\"].str.extract(\"^(\\d+(?:\\.\\d+)?)-(\\d+(?:\\.\\d+)?)%$\").fillna(0).astype(int)\n",
    "    mean_column = ((split_numbers[0]+split_numbers[1])/2)/100\n",
    "    mean_column.loc[mean_column == 0] = None\n",
    "    \n",
    "    for index, row in df.iterrows():\n",
    "        if (index in mean_column.index) and (~np.isnan(mean_column[index])):\n",
    "            df.loc[index,\"אבחנה-KI67 protein\"] = mean_column[index]\n",
    "            \n",
    "    return df\n",
    "\n",
    "## 'אבחנה-Her2'\n",
    "def her2(df):\n",
    "    POSITIVE_REGEX = r\"(pos|Pos|POS|po|\\+|[0-9]+.*[0-9]*\\%*|jhuch|חיובי|strong|Strong|STRONG|high|High|HIGH|beg)\"\n",
    "    NEGATIVE_REGEX = r\"(neg|ned|Neg|NEG|ned|nge|akhah|\\-|שלילי)\"\n",
    "\n",
    "    def parse_pos_neg_col(df, col_name):\n",
    "        df[col_name] = np.where(df[col_name].str.contains(POSITIVE_REGEX), \"1\", df[col_name])\n",
    "        df[col_name] = np.where(df[col_name].str.contains(NEGATIVE_REGEX), \"0\", df[col_name])\n",
    "    parse_pos_neg_col(df, 'אבחנה-Her2')\n",
    "    \n",
    "    return df\n"
   ]
  },
  {
   "cell_type": "code",
   "execution_count": 1026,
   "id": "pursuant-retro",
   "metadata": {},
   "outputs": [],
   "source": [
    "# to convert to one-hot encoding\n",
    "def one_hot(df):\n",
    "\n",
    "    df.drop(df.index[df['אבחנה-Basic stage'] == 'Null'], inplace=True)\n",
    "    encoder=OneHotEncoder(sparse=False)\n",
    "    df_encoded = pd.DataFrame (encoder.fit_transform(df[[' Hospital','אבחנה-Basic stage','אבחנה-Histological diagnosis']]))\n",
    "    df_encoded.columns = encoder.get_feature_names([' Hospital','אבחנה-Basic stage','אבחנה-Histological diagnosis'])\n",
    "    df.drop([' Hospital','אבחנה-Basic stage','אבחנה-Histological diagnosis'] ,axis=1, inplace=True)\n",
    "    df.reset_index(drop=True, inplace=True)\n",
    "    df_encoded.reset_index(drop=True, inplace=True)\n",
    "    df= pd.concat([df, df_encoded ], axis=1)\n",
    "    \n",
    "    return df\n",
    "\n",
    "# to convert to ordinal encoding\n",
    "def ordinal_enc(df):\n",
    "    cat = ['G1 - Well Differentiated', 'G2 - Modereately well differentiated', 'G3 - Poorly differentiated',\n",
    "           'G4 - Undifferentiated','GX - Grade cannot be assessed','Null']\n",
    "    ordinal_encoder = OrdinalEncoder(categories = [cat])\n",
    "    df['אבחנה-Histopatological degree'] = ordinal_encoder.fit_transform(df[['אבחנה-Histopatological degree']])\n",
    "\n",
    "    ordinal_encoder = OrdinalEncoder()\n",
    "    df['User Name'] = ordinal_encoder.fit_transform(df[['User Name']])\n",
    "    \n",
    "    return df\n"
   ]
  },
  {
   "cell_type": "code",
   "execution_count": 1027,
   "id": "italian-creator",
   "metadata": {},
   "outputs": [],
   "source": [
    "# fill nan, drop entries, convert values to float\n",
    "def finishes(df):\n",
    "    df.loc[df[\"אבחנה-KI67 protein\"].isnull(),\"אבחנה-KI67 protein\"] = 0\n",
    "\n",
    "    df = df.drop(df[~df['אבחנה-Her2'].isin([1,0,'0','1'])].index)\n",
    "    df = df[pd.to_numeric(df[\"אבחנה-KI67 protein\"], errors='coerce').notnull()]\n",
    "    df[\"אבחנה-Ivi -Lymphovascular invasion\"] = df[\"אבחנה-Ivi -Lymphovascular invasion\"].astype(float)\n",
    "    df['אבחנה-Her2'] = df['אבחנה-Her2'].astype(float)\n",
    "    df[\"אבחנה-KI67 protein\"] = df[\"אבחנה-KI67 protein\"].astype(float)\n",
    "    \n",
    "    return df"
   ]
  },
  {
   "cell_type": "code",
   "execution_count": 1028,
   "id": "conventional-williams",
   "metadata": {},
   "outputs": [],
   "source": [
    "def tomer_prep(df):\n",
    "    df = lymph_invasion(df)\n",
    "    df = ki67(df)\n",
    "    df = her2(df)\n",
    "    df = one_hot(df)\n",
    "    df = ordinal_enc(df)\n",
    "    df = finishes(df)\n",
    "    return df"
   ]
  },
  {
   "cell_type": "code",
   "execution_count": null,
   "id": "excellent-deployment",
   "metadata": {},
   "outputs": [],
   "source": [
    "df = tomer_prep(df)\n",
    "df"
   ]
  },
  {
   "cell_type": "code",
   "execution_count": null,
   "id": "governmental-leave",
   "metadata": {},
   "outputs": [],
   "source": []
  }
 ],
 "metadata": {
  "kernelspec": {
   "display_name": "Python 3",
   "language": "python",
   "name": "python3"
  },
  "language_info": {
   "codemirror_mode": {
    "name": "ipython",
    "version": 3
   },
   "file_extension": ".py",
   "mimetype": "text/x-python",
   "name": "python",
   "nbconvert_exporter": "python",
   "pygments_lexer": "ipython3",
   "version": "3.8.0"
  }
 },
 "nbformat": 4,
 "nbformat_minor": 5
}
